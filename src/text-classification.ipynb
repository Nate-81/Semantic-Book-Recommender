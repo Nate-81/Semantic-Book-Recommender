{
 "cells": [
  {
   "cell_type": "code",
   "execution_count": 1,
   "id": "fe6241b3",
   "metadata": {},
   "outputs": [],
   "source": [
    "import pandas as pd\n",
    "import numpy as np\n",
    "import matplotlib.pyplot as plt\n",
    "\n",
    "from transformers import pipeline\n",
    "import torch"
   ]
  },
  {
   "cell_type": "code",
   "execution_count": 2,
   "id": "658d7394",
   "metadata": {},
   "outputs": [],
   "source": [
    "books = pd.read_csv(\"../data/books_cleaned.csv\")"
   ]
  },
  {
   "cell_type": "code",
   "execution_count": 3,
   "id": "21c342f1",
   "metadata": {},
   "outputs": [
    {
     "data": {
      "text/plain": [
       "categories\n",
       "Fiction                      2075\n",
       "Juvenile Fiction              377\n",
       "Biography & Autobiography     302\n",
       "History                       203\n",
       "Literary Criticism            121\n",
       "                             ... \n",
       "Egypt                           1\n",
       "Conspiracies                    1\n",
       "Brothers and sisters            1\n",
       "Rock musicians                  1\n",
       "Indic fiction (English)         1\n",
       "Name: count, Length: 475, dtype: int64"
      ]
     },
     "execution_count": 3,
     "metadata": {},
     "output_type": "execute_result"
    }
   ],
   "source": [
    "books['categories'].value_counts()"
   ]
  },
  {
   "cell_type": "code",
   "execution_count": 4,
   "id": "d3007ba0",
   "metadata": {},
   "outputs": [],
   "source": [
    "# books[books.categories == \"Juvenile Fiction\"]"
   ]
  },
  {
   "cell_type": "code",
   "execution_count": 5,
   "id": "309b283f",
   "metadata": {},
   "outputs": [],
   "source": [
    "# books[books.categories == \"Juvenile Nonfiction\"]"
   ]
  },
  {
   "cell_type": "code",
   "execution_count": 6,
   "id": "4d02a226",
   "metadata": {},
   "outputs": [
    {
     "data": {
      "text/plain": [
       "['Fiction',\n",
       " 'Juvenile Fiction',\n",
       " 'Biography & Autobiography',\n",
       " 'History',\n",
       " 'Literary Criticism',\n",
       " 'Comics & Graphic Novels',\n",
       " 'Philosophy',\n",
       " 'Religion',\n",
       " 'Drama',\n",
       " 'Science',\n",
       " 'Miscellaneous']"
      ]
     },
     "execution_count": 6,
     "metadata": {},
     "output_type": "execute_result"
    }
   ],
   "source": [
    "categories = list(books.categories.value_counts().reset_index().head(10).categories)\n",
    "categories.append(\"Miscellaneous\")\n",
    "categories"
   ]
  },
  {
   "cell_type": "code",
   "execution_count": 7,
   "id": "386b7e4a",
   "metadata": {},
   "outputs": [
    {
     "name": "stderr",
     "output_type": "stream",
     "text": [
      "Device set to use mps:0\n"
     ]
    }
   ],
   "source": [
    "pipe = pipeline('zero-shot-classification', model=\"facebook/bart-large-mnli\")"
   ]
  },
  {
   "cell_type": "code",
   "execution_count": 8,
   "id": "b6a380d3",
   "metadata": {},
   "outputs": [],
   "source": [
    "books[\"simple_categories\"] = np.where(books.categories.isin(categories), books.categories, np.nan)"
   ]
  },
  {
   "cell_type": "code",
   "execution_count": null,
   "id": "c5a56542",
   "metadata": {},
   "outputs": [],
   "source": []
  },
  {
   "cell_type": "code",
   "execution_count": 9,
   "id": "15fef4e8",
   "metadata": {},
   "outputs": [],
   "source": [
    "def generate_predictions(sequence, categories):\n",
    "    predictions = pipe(sequence, categories)\n",
    "    max_index = np.argmax(predictions[\"scores\"])\n",
    "    max_label = predictions[\"labels\"][max_index]\n",
    "    return max_label"
   ]
  },
  {
   "cell_type": "code",
   "execution_count": 10,
   "id": "04d69669",
   "metadata": {},
   "outputs": [],
   "source": [
    "from tqdm import tqdm\n",
    "\n",
    "# actual_cats = []\n",
    "# predicted_cats = []\n",
    "\n",
    "# for i in tqdm(range(1000)):\n",
    "#     entry = books.loc[books.simple_categories.isin(categories)].iloc[i]\n",
    "#     sequence = entry[\"description\"]\n",
    "#     predicted_cats.append(generate_predictions(sequence, categories))\n",
    "#     actual_cats.append(entry.simple_categories)\n",
    "\n",
    "# np.save(\"../data/actual_cats.npy\", actual_cats)\n",
    "# np.save(\"../data/predicted_cats.npy\", predicted_cats)"
   ]
  },
  {
   "cell_type": "code",
   "execution_count": 11,
   "id": "f552aad8",
   "metadata": {},
   "outputs": [],
   "source": [
    "# from sklearn.metrics import classification_report, confusion_matrix, ConfusionMatrixDisplay\n",
    "\n",
    "# report = classification_report(y_true=actual_cats, y_pred=predicted_cats)\n",
    "\n",
    "# print(report)"
   ]
  },
  {
   "cell_type": "code",
   "execution_count": 12,
   "id": "77a789df",
   "metadata": {},
   "outputs": [],
   "source": [
    "# class_names = np.unique(actual_cats + [\"Misc\"])\n",
    "# cm = confusion_matrix(y_true=actual_cats, y_pred=predicted_cats)\n",
    "# disp = ConfusionMatrixDisplay(cm, display_labels=class_names)\n",
    "# disp.plot()\n",
    "# plt.xticks(rotation=90)\n",
    "# plt.show()"
   ]
  },
  {
   "cell_type": "code",
   "execution_count": 13,
   "id": "0fd1ccf3",
   "metadata": {},
   "outputs": [],
   "source": [
    "isbns = []\n",
    "predicted = []\n",
    "\n",
    "missing_cats = books.loc[books[\"simple_categories\"].isna(), [\"isbn13\", \"description\"]].reset_index(drop=True)"
   ]
  },
  {
   "cell_type": "code",
   "execution_count": null,
   "id": "ff8f70a4",
   "metadata": {},
   "outputs": [
    {
     "name": "stderr",
     "output_type": "stream",
     "text": [
      "100%|██████████| 1534/1534 [57:12<00:00,  2.24s/it] \n"
     ]
    }
   ],
   "source": [
    "# for i in tqdm(range(len(missing_cats))):\n",
    "#     sequence = missing_cats['description'][i]\n",
    "#     predicted.append(generate_predictions(sequence, categories))\n",
    "#     isbns.append(missing_cats[\"isbn13\"][i])\n",
    "\n",
    "# np.save(\"../data/isbns.npy\", isbns)\n",
    "# np.save(\"../data/actual_predictions.npy\", predicted)"
   ]
  },
  {
   "cell_type": "code",
   "execution_count": 15,
   "id": "797497b6",
   "metadata": {},
   "outputs": [],
   "source": [
    "missing_predicted_df = pd.DataFrame({\"isbn13\":isbns, \"predicted_categories\": predicted})"
   ]
  },
  {
   "cell_type": "code",
   "execution_count": 17,
   "id": "5567933d",
   "metadata": {},
   "outputs": [
    {
     "data": {
      "text/html": [
       "<div>\n",
       "<style scoped>\n",
       "    .dataframe tbody tr th:only-of-type {\n",
       "        vertical-align: middle;\n",
       "    }\n",
       "\n",
       "    .dataframe tbody tr th {\n",
       "        vertical-align: top;\n",
       "    }\n",
       "\n",
       "    .dataframe thead th {\n",
       "        text-align: right;\n",
       "    }\n",
       "</style>\n",
       "<table border=\"1\" class=\"dataframe\">\n",
       "  <thead>\n",
       "    <tr style=\"text-align: right;\">\n",
       "      <th></th>\n",
       "      <th>isbn13</th>\n",
       "      <th>predicted_categories</th>\n",
       "    </tr>\n",
       "  </thead>\n",
       "  <tbody>\n",
       "    <tr>\n",
       "      <th>0</th>\n",
       "      <td>9780002261982</td>\n",
       "      <td>Fiction</td>\n",
       "    </tr>\n",
       "    <tr>\n",
       "      <th>1</th>\n",
       "      <td>9780006280897</td>\n",
       "      <td>Philosophy</td>\n",
       "    </tr>\n",
       "    <tr>\n",
       "      <th>2</th>\n",
       "      <td>9780006280934</td>\n",
       "      <td>Religion</td>\n",
       "    </tr>\n",
       "    <tr>\n",
       "      <th>3</th>\n",
       "      <td>9780006380832</td>\n",
       "      <td>History</td>\n",
       "    </tr>\n",
       "    <tr>\n",
       "      <th>4</th>\n",
       "      <td>9780006470229</td>\n",
       "      <td>Fiction</td>\n",
       "    </tr>\n",
       "    <tr>\n",
       "      <th>...</th>\n",
       "      <td>...</td>\n",
       "      <td>...</td>\n",
       "    </tr>\n",
       "    <tr>\n",
       "      <th>1529</th>\n",
       "      <td>9788125026600</td>\n",
       "      <td>Philosophy</td>\n",
       "    </tr>\n",
       "    <tr>\n",
       "      <th>1530</th>\n",
       "      <td>9788171565641</td>\n",
       "      <td>Literary Criticism</td>\n",
       "    </tr>\n",
       "    <tr>\n",
       "      <th>1531</th>\n",
       "      <td>9788172235222</td>\n",
       "      <td>Drama</td>\n",
       "    </tr>\n",
       "    <tr>\n",
       "      <th>1532</th>\n",
       "      <td>9788173031014</td>\n",
       "      <td>Religion</td>\n",
       "    </tr>\n",
       "    <tr>\n",
       "      <th>1533</th>\n",
       "      <td>9788179921623</td>\n",
       "      <td>Fiction</td>\n",
       "    </tr>\n",
       "  </tbody>\n",
       "</table>\n",
       "<p>1534 rows × 2 columns</p>\n",
       "</div>"
      ],
      "text/plain": [
       "             isbn13 predicted_categories\n",
       "0     9780002261982              Fiction\n",
       "1     9780006280897           Philosophy\n",
       "2     9780006280934             Religion\n",
       "3     9780006380832              History\n",
       "4     9780006470229              Fiction\n",
       "...             ...                  ...\n",
       "1529  9788125026600           Philosophy\n",
       "1530  9788171565641   Literary Criticism\n",
       "1531  9788172235222                Drama\n",
       "1532  9788173031014             Religion\n",
       "1533  9788179921623              Fiction\n",
       "\n",
       "[1534 rows x 2 columns]"
      ]
     },
     "execution_count": 17,
     "metadata": {},
     "output_type": "execute_result"
    }
   ],
   "source": [
    "missing_predicted_df"
   ]
  },
  {
   "cell_type": "code",
   "execution_count": 18,
   "id": "c953a844",
   "metadata": {},
   "outputs": [],
   "source": [
    "books = pd.merge(books, missing_predicted_df, on=\"isbn13\", how=\"left\")\n",
    "books[\"simple_categories\"] = np.where(books[\"simple_categories\"].isna(), books[\"predicted_categories\"], books[\"simple_categories\"])\n",
    "books = books.drop(columns=[\"predicted_categories\"])"
   ]
  },
  {
   "cell_type": "code",
   "execution_count": 19,
   "id": "82978dc3",
   "metadata": {},
   "outputs": [
    {
     "data": {
      "text/plain": [
       "Unnamed: 0             0\n",
       "isbn13                 0\n",
       "authors               30\n",
       "categories            28\n",
       "description            0\n",
       "published_year         0\n",
       "average_rating         0\n",
       "num_pages              0\n",
       "ratings_count          0\n",
       "title_and_subtitle     0\n",
       "tagged_description     0\n",
       "simple_categories      0\n",
       "dtype: int64"
      ]
     },
     "execution_count": 19,
     "metadata": {},
     "output_type": "execute_result"
    }
   ],
   "source": [
    "books.isnull().sum()"
   ]
  },
  {
   "cell_type": "code",
   "execution_count": 22,
   "id": "48ba83f6",
   "metadata": {},
   "outputs": [],
   "source": [
    "books.to_csv(\"../data/books_with_categories.csv\", index=False)"
   ]
  },
  {
   "cell_type": "code",
   "execution_count": null,
   "id": "ec326e06",
   "metadata": {},
   "outputs": [],
   "source": []
  }
 ],
 "metadata": {
  "kernelspec": {
   "display_name": "project",
   "language": "python",
   "name": "project"
  },
  "language_info": {
   "codemirror_mode": {
    "name": "ipython",
    "version": 3
   },
   "file_extension": ".py",
   "mimetype": "text/x-python",
   "name": "python",
   "nbconvert_exporter": "python",
   "pygments_lexer": "ipython3",
   "version": "3.11.3"
  }
 },
 "nbformat": 4,
 "nbformat_minor": 5
}
