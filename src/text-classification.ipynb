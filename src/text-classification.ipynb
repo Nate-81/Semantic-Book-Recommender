{
 "cells": [
  {
   "cell_type": "code",
   "execution_count": 1,
   "id": "fe6241b3",
   "metadata": {},
   "outputs": [],
   "source": [
    "import pandas as pd\n",
    "import numpy as np\n",
    "\n",
    "from transformers import pipeline\n",
    "import torch"
   ]
  },
  {
   "cell_type": "code",
   "execution_count": 2,
   "id": "658d7394",
   "metadata": {},
   "outputs": [],
   "source": [
    "books = pd.read_csv(\"../data/books_cleaned.csv\")"
   ]
  },
  {
   "cell_type": "code",
   "execution_count": 3,
   "id": "21c342f1",
   "metadata": {},
   "outputs": [
    {
     "data": {
      "text/plain": [
       "categories\n",
       "Fiction                      2075\n",
       "Juvenile Fiction              377\n",
       "Biography & Autobiography     302\n",
       "History                       203\n",
       "Literary Criticism            121\n",
       "                             ... \n",
       "Egypt                           1\n",
       "Conspiracies                    1\n",
       "Brothers and sisters            1\n",
       "Rock musicians                  1\n",
       "Indic fiction (English)         1\n",
       "Name: count, Length: 475, dtype: int64"
      ]
     },
     "execution_count": 3,
     "metadata": {},
     "output_type": "execute_result"
    }
   ],
   "source": [
    "books['categories'].value_counts()"
   ]
  },
  {
   "cell_type": "code",
   "execution_count": 4,
   "id": "d3007ba0",
   "metadata": {},
   "outputs": [],
   "source": [
    "# books[books.categories == \"Juvenile Fiction\"]"
   ]
  },
  {
   "cell_type": "code",
   "execution_count": 5,
   "id": "309b283f",
   "metadata": {},
   "outputs": [],
   "source": [
    "# books[books.categories == \"Juvenile Nonfiction\"]"
   ]
  },
  {
   "cell_type": "code",
   "execution_count": 6,
   "id": "4d02a226",
   "metadata": {},
   "outputs": [
    {
     "data": {
      "text/plain": [
       "['Fiction',\n",
       " 'Juvenile Fiction',\n",
       " 'Biography & Autobiography',\n",
       " 'History',\n",
       " 'Literary Criticism',\n",
       " 'Comics & Graphic Novels',\n",
       " 'Philosophy',\n",
       " 'Religion',\n",
       " 'Drama',\n",
       " 'Science',\n",
       " 'Miscellaneous']"
      ]
     },
     "execution_count": 6,
     "metadata": {},
     "output_type": "execute_result"
    }
   ],
   "source": [
    "categories = list(books.categories.value_counts().reset_index().head(10).categories)\n",
    "categories.append(\"Miscellaneous\")\n",
    "categories"
   ]
  },
  {
   "cell_type": "code",
   "execution_count": 7,
   "id": "386b7e4a",
   "metadata": {},
   "outputs": [
    {
     "name": "stderr",
     "output_type": "stream",
     "text": [
      "Device set to use mps:0\n"
     ]
    }
   ],
   "source": [
    "pipe = pipeline('zero-shot-classification', model=\"facebook/bart-large-mnli\")"
   ]
  },
  {
   "cell_type": "code",
   "execution_count": 8,
   "id": "b6a380d3",
   "metadata": {},
   "outputs": [],
   "source": [
    "books[\"simple_categories\"] = np.where(books.categories.isin(categories), books.categories, np.nan)"
   ]
  },
  {
   "cell_type": "code",
   "execution_count": null,
   "id": "c5a56542",
   "metadata": {},
   "outputs": [],
   "source": []
  },
  {
   "cell_type": "code",
   "execution_count": 9,
   "id": "15fef4e8",
   "metadata": {},
   "outputs": [],
   "source": [
    "def generate_predictions(sequence, categories):\n",
    "    predictions = pipe(sequence, categories)\n",
    "    max_index = np.argmax(predictions[\"scores\"])\n",
    "    max_label = predictions[\"labels\"][max_index]\n",
    "    return max_label"
   ]
  },
  {
   "cell_type": "code",
   "execution_count": null,
   "id": "04d69669",
   "metadata": {},
   "outputs": [
    {
     "name": "stderr",
     "output_type": "stream",
     "text": [
      " 24%|██▎       | 237/1000 [14:14<32:06,  2.52s/it]  "
     ]
    }
   ],
   "source": [
    "from tqdm import tqdm\n",
    "\n",
    "actual_cats = []\n",
    "predicted_cats = []\n",
    "\n",
    "for i in tqdm(range(1000)):\n",
    "    entry = books.loc[books.simple_categories.isin(categories)].iloc[i]\n",
    "    sequence = entry[\"description\"]\n",
    "    predicted_cats.append(generate_predictions(sequence, categories))\n",
    "    actual_cats.append(entry.simple_categories)\n",
    "\n",
    "np.save(\"../data/actual_cats.npy\", actual_cats)\n",
    "np.save(\"../data/predicted_cats.npy\", predicted_cats)"
   ]
  },
  {
   "cell_type": "code",
   "execution_count": null,
   "id": "f552aad8",
   "metadata": {},
   "outputs": [],
   "source": [
    "from sklearn.metrics import classification_report, confusion_matrix, ConfusionMatrixDisplay\n",
    "import matplotlib.pyplot as plt\n",
    "\n",
    "report = classification_report(y_true=actual_cats, y_pred=predicted_cats)\n",
    "report"
   ]
  },
  {
   "cell_type": "code",
   "execution_count": null,
   "id": "77a789df",
   "metadata": {},
   "outputs": [],
   "source": [
    "cm = confusion_matrix(y_true=actual_cats, y_pred=predicted_cats)\n",
    "disp = ConfusionMatrixDisplay(cm)\n",
    "disp.plot()\n",
    "plt.show()"
   ]
  },
  {
   "cell_type": "code",
   "execution_count": null,
   "id": "0fd1ccf3",
   "metadata": {},
   "outputs": [],
   "source": [
    "isbns = []\n",
    "predicted = []\n",
    "\n",
    "missing_cats = books.loc[books[\"simple_categories\"].isna(), [\"isbn13\", \"description\"]].reset_index(drop=True)"
   ]
  },
  {
   "cell_type": "code",
   "execution_count": null,
   "id": "ff8f70a4",
   "metadata": {},
   "outputs": [],
   "source": [
    "for i in tqdm(range(len(missing_cats))):\n",
    "    sequence = missing_cats['description'][i]\n",
    "    predicted.append(generate_predictions(sequence, categories))\n",
    "    isbns.append(missing_cats[\"isbn13\"][i])\n",
    "\n",
    "np.save(\"../data/isbns.npy\", isbns)\n",
    "np.save(\"../data/actual_predictions.npy\", predicted)"
   ]
  },
  {
   "cell_type": "code",
   "execution_count": null,
   "id": "797497b6",
   "metadata": {},
   "outputs": [],
   "source": [
    "missing_predicted_df = pd.DataFrame({\"isbn13\":isbns, \"predicted_categories\": predicted})"
   ]
  }
 ],
 "metadata": {
  "kernelspec": {
   "display_name": "project",
   "language": "python",
   "name": "project"
  },
  "language_info": {
   "codemirror_mode": {
    "name": "ipython",
    "version": 3
   },
   "file_extension": ".py",
   "mimetype": "text/x-python",
   "name": "python",
   "nbconvert_exporter": "python",
   "pygments_lexer": "ipython3",
   "version": "3.11.3"
  }
 },
 "nbformat": 4,
 "nbformat_minor": 5
}
